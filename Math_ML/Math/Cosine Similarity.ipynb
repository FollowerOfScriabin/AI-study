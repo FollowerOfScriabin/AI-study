{
 "cells": [
  {
   "cell_type": "code",
   "execution_count": 6,
   "metadata": {},
   "outputs": [
    {
     "data": {
      "image/png": "[encoded data removed]",
      "text/plain": [
       "<Figure size 648x648 with 8 Axes>"
      ]
     },
     "metadata": {
      "needs_background": "light"
     },
     "output_type": "display_data"
    }
   ],
   "source": [
    "from sklearn.datasets import load_digits\n",
    "import matplotlib.pyplot as plt\n",
    "import matplotlib.gridspec as gridspec\n",
    "import numpy as np\n",
    "\n",
    "digits = load_digits()\n",
    "d1 = digits.images[0]\n",
    "d2 = digits.images[10]\n",
    "d3 = digits.images[1]\n",
    "d4 = digits.images[11]\n",
    "v1 = d1.reshape(64,1)\n",
    "v2 = d2.reshape(64,1)\n",
    "v3 = d3.reshape(64,1)\n",
    "v4 = d4.reshape(64,1)\n",
    "\n",
    "plt.figure(figsize=(9,9))\n",
    "gs = gridspec.GridSpec(1,8, height_ratios=[1],width_ratios=[9,1,9,1,9,1,9,1])\n",
    "\n",
    "for i in range(4):\n",
    "    plt.subplot(gs[2 * i])\n",
    "    plt.imshow(eval(\"d\" + str(i+1)), aspect=1, interpolation='nearest')\n",
    "    plt.grid(False)\n",
    "    plt.subplot(gs[2*i+1])\n",
    "    plt.imshow(eval(\"v\" + str(i+1)), aspect=0.25, interpolation='nearest')\n",
    "    plt.grid(False)\n",
    "plt.tight_layout()\n",
    "plt.show()"
   ]
  },
  {
   "cell_type": "code",
   "execution_count": 19,
   "metadata": {},
   "outputs": [
    {
     "name": "stdout",
     "output_type": "stream",
     "text": [
      "Similarity between 0,1 : 0.5191\n"
     ]
    }
   ],
   "source": [
    "norm1 = np.linalg.norm(v1)\n",
    "norm2 = np.linalg.norm(v3)\n",
    "print('Similarity between 0,1 : %.4f' % ((v1.T @ v3)[0][0] / (norm1 * norm2)))\n"
   ]
  },
  {
   "cell_type": "code",
   "execution_count": null,
   "metadata": {},
   "outputs": [],
   "source": []
  }
 ],
 "metadata": {
  "kernelspec": {
   "display_name": "Python 3",
   "language": "python",
   "name": "python3"
  },
  "language_info": {
   "codemirror_mode": {
    "name": "ipython",
    "version": 3
   },
   "file_extension": ".py",
   "mimetype": "text/x-python",
   "name": "python",
   "nbconvert_exporter": "python",
   "pygments_lexer": "ipython3",
   "version": "3.6.8"
  }
 },
 "nbformat": 4,
 "nbformat_minor": 2
}
