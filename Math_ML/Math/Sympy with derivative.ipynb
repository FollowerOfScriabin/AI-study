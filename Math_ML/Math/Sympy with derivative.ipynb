{
 "cells": [
  {
   "cell_type": "markdown",
   "metadata": {},
   "source": [
    "# Symbol"
   ]
  },
  {
   "cell_type": "code",
   "execution_count": 32,
   "metadata": {},
   "outputs": [
    {
     "data": {
      "text/plain": [
       "sympy.core.symbol.Symbol"
      ]
     },
     "execution_count": 32,
     "metadata": {},
     "output_type": "execute_result"
    }
   ],
   "source": [
    "import sympy\n",
    "sympy.init_printing(use_latex='mathjax')\n",
    "x = sympy.symbols('x')\n",
    "type(x)"
   ]
  },
  {
   "cell_type": "markdown",
   "metadata": {},
   "source": [
    "# Derivative"
   ]
  },
  {
   "cell_type": "code",
   "execution_count": 39,
   "metadata": {},
   "outputs": [
    {
     "data": {
      "text/latex": [
       "$$\\left(x + 1\\right) e^{x}$$"
      ],
      "text/plain": [
       "         x\n",
       "(x + 1)⋅ℯ "
      ]
     },
     "execution_count": 39,
     "metadata": {},
     "output_type": "execute_result"
    }
   ],
   "source": [
    "f = x * sympy.exp(x)\n",
    "sympy.simplify(sympy.diff(f))"
   ]
  },
  {
   "cell_type": "markdown",
   "metadata": {},
   "source": [
    "# Partial derivative"
   ]
  },
  {
   "cell_type": "code",
   "execution_count": 36,
   "metadata": {},
   "outputs": [],
   "source": [
    "x, y = sympy.symbols('x y')\n",
    "f = x ** 2 + 4 * x * y + 4 * y ** 2"
   ]
  },
  {
   "cell_type": "code",
   "execution_count": 37,
   "metadata": {},
   "outputs": [
    {
     "data": {
      "text/latex": [
       "$$\\left ( 2 x + 4 y, \\quad 4 x + 8 y\\right )$$"
      ],
      "text/plain": [
       "(2⋅x + 4⋅y, 4⋅x + 8⋅y)"
      ]
     },
     "execution_count": 37,
     "metadata": {},
     "output_type": "execute_result"
    }
   ],
   "source": [
    "sympy.diff(f,x), sympy.diff(f,y)"
   ]
  },
  {
   "cell_type": "code",
   "execution_count": 49,
   "metadata": {},
   "outputs": [
    {
     "data": {
      "text/latex": [
       "$$\\left ( \\frac{\\left(- 2 \\mu + 2 x\\right) e^{\\frac{\\left(- \\mu + x\\right)^{2}}{\\sigma^{2}}}}{\\sigma^{2}}, \\quad \\frac{\\left(2 \\mu - 2 x\\right) e^{\\frac{\\left(- \\mu + x\\right)^{2}}{\\sigma^{2}}}}{\\sigma^{2}}, \\quad - \\frac{2 \\left(- \\mu + x\\right)^{2} e^{\\frac{\\left(- \\mu + x\\right)^{2}}{\\sigma^{2}}}}{\\sigma^{3}}, \\quad \\frac{2 \\left(1 + \\frac{2 \\left(\\mu - x\\right)^{2}}{\\sigma^{2}}\\right) e^{\\frac{\\left(\\mu - x\\right)^{2}}{\\sigma^{2}}}}{\\sigma^{2}}\\right )$$"
      ],
      "text/plain": [
       "⎛                                                                             \n",
       "⎜                                                                             \n",
       "⎜                      2                       2                        2     \n",
       "⎜              (-μ + x)                (-μ + x)                 (-μ + x)      \n",
       "⎜              ─────────               ─────────                ─────────     \n",
       "⎜                   2                       2                        2      2⋅\n",
       "⎜                  σ                       σ                 2      σ         \n",
       "⎜(-2⋅μ + 2⋅x)⋅ℯ           (2⋅μ - 2⋅x)⋅ℯ           -2⋅(-μ + x) ⋅ℯ              \n",
       "⎜───────────────────────, ──────────────────────, ────────────────────────, ──\n",
       "⎜            2                       2                        3               \n",
       "⎝           σ                       σ                        σ                \n",
       "\n",
       "                         2⎞\n",
       "                  (μ - x) ⎟\n",
       "                  ────────⎟\n",
       "⎛             2⎞      2   ⎟\n",
       "⎜    2⋅(μ - x) ⎟     σ    ⎟\n",
       "⎜1 + ──────────⎟⋅ℯ        ⎟\n",
       "⎜         2    ⎟          ⎟\n",
       "⎝        σ     ⎠          ⎟\n",
       "──────────────────────────⎟\n",
       "            2             ⎟\n",
       "           σ              ⎠"
      ]
     },
     "execution_count": 49,
     "metadata": {},
     "output_type": "execute_result"
    }
   ],
   "source": [
    "x, mu, sigma = sympy.symbols('x mu sigma')\n",
    "g = sympy.exp((x - mu) ** 2 / sigma ** 2)\n",
    "sympy.diff(g,x),sympy.diff(g,mu),sympy.diff(g,sigma),sympy.diff(g,x,x)"
   ]
  },
  {
   "cell_type": "code",
   "execution_count": 50,
   "metadata": {},
   "outputs": [
    {
     "data": {
      "text/latex": [
       "$$\\left ( 2 x e^{x^{2} + 2 y^{2}}, \\quad 4 y e^{x^{2} + 2 y^{2}}, \\quad 2 \\left(2 x^{2} + 1\\right) e^{x^{2} + 2 y^{2}}, \\quad 8 x y e^{x^{2} + 2 y^{2}}, \\quad 4 \\left(4 y^{2} + 1\\right) e^{x^{2} + 2 y^{2}}, \\quad 8 x y e^{x^{2} + 2 y^{2}}\\right )$$"
      ],
      "text/plain": [
       "⎛      2      2        2      2                 2      2          2      2    \n",
       "⎜     x  + 2⋅y        x  + 2⋅y     ⎛   2    ⎞  x  + 2⋅y          x  + 2⋅y     \n",
       "⎝2⋅x⋅ℯ         , 4⋅y⋅ℯ         , 2⋅⎝2⋅x  + 1⎠⋅ℯ         , 8⋅x⋅y⋅ℯ         , 4⋅\n",
       "\n",
       "             2      2          2      2⎞\n",
       "⎛   2    ⎞  x  + 2⋅y          x  + 2⋅y ⎟\n",
       "⎝4⋅y  + 1⎠⋅ℯ         , 8⋅x⋅y⋅ℯ         ⎠"
      ]
     },
     "execution_count": 50,
     "metadata": {},
     "output_type": "execute_result"
    }
   ],
   "source": [
    "h = sympy.exp(x ** 2 + 2 * y ** 2)\n",
    "sympy.diff(h,x),sympy.diff(h,y),sympy.diff(h,x,x),sympy.diff(h,x,y),sympy.diff(h,y,y),sympy.diff(h,y,x)"
   ]
  },
  {
   "cell_type": "code",
   "execution_count": null,
   "metadata": {},
   "outputs": [],
   "source": []
  }
 ],
 "metadata": {
  "kernelspec": {
   "display_name": "Python 3",
   "language": "python",
   "name": "python3"
  },
  "language_info": {
   "codemirror_mode": {
    "name": "ipython",
    "version": 3
   },
   "file_extension": ".py",
   "mimetype": "text/x-python",
   "name": "python",
   "nbconvert_exporter": "python",
   "pygments_lexer": "ipython3",
   "version": "3.6.8"
  }
 },
 "nbformat": 4,
 "nbformat_minor": 2
}
