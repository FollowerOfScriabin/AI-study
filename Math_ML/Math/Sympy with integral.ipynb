{
 "cells": [
  {
   "cell_type": "markdown",
   "metadata": {},
   "source": [
    "# Indefinite integral"
   ]
  },
  {
   "cell_type": "code",
   "execution_count": 45,
   "metadata": {},
   "outputs": [],
   "source": [
    "import sympy\n",
    "import numpy as np\n",
    "import scipy.integrate"
   ]
  },
  {
   "cell_type": "code",
   "execution_count": 8,
   "metadata": {},
   "outputs": [
    {
     "data": {
      "text/latex": [
       "$$\\left ( \\left(x + 1\\right) e^{x}, \\quad x e^{x}\\right )$$"
      ],
      "text/plain": [
       "⎛         x     x⎞\n",
       "⎝(x + 1)⋅ℯ , x⋅ℯ ⎠"
      ]
     },
     "execution_count": 8,
     "metadata": {},
     "output_type": "execute_result"
    }
   ],
   "source": [
    "sympy.init_printing(use_latex='mathjax')\n",
    "\n",
    "x,y = sympy.symbols('x y')\n",
    "f = x * sympy.exp(x) + sympy.exp(x)\n",
    "sympy.simplify(f), sympy.integrate(f,x)"
   ]
  },
  {
   "cell_type": "code",
   "execution_count": 5,
   "metadata": {},
   "outputs": [
    {
     "data": {
      "text/latex": [
       "$$\\left ( x^{2} + x y, \\quad 2 x y + \\frac{y^{2}}{2}\\right )$$"
      ],
      "text/plain": [
       "⎛                   2⎞\n",
       "⎜ 2                y ⎟\n",
       "⎜x  + x⋅y, 2⋅x⋅y + ──⎟\n",
       "⎝                  2 ⎠"
      ]
     },
     "execution_count": 5,
     "metadata": {},
     "output_type": "execute_result"
    }
   ],
   "source": [
    "g = 2 * x + y\n",
    "sympy.integrate(g,x),sympy.integrate(g,y)"
   ]
  },
  {
   "cell_type": "code",
   "execution_count": 17,
   "metadata": {},
   "outputs": [
    {
     "data": {
      "text/latex": [
       "$$\\frac{e^{x^{2} + y^{2}}}{4}$$"
      ],
      "text/plain": [
       "  2    2\n",
       " x  + y \n",
       "ℯ       \n",
       "────────\n",
       "   4    "
      ]
     },
     "execution_count": 17,
     "metadata": {},
     "output_type": "execute_result"
    }
   ],
   "source": [
    "h = x * y * sympy.exp(x ** 2 + y ** 2)\n",
    "sympy.integrate(h,y,x)"
   ]
  },
  {
   "cell_type": "markdown",
   "metadata": {},
   "source": [
    "# Definite integral"
   ]
  },
  {
   "cell_type": "code",
   "execution_count": 36,
   "metadata": {},
   "outputs": [
    {
     "data": {
      "text/latex": [
       "$$e^{2}$$"
      ],
      "text/plain": [
       " 2\n",
       "ℯ "
      ]
     },
     "execution_count": 36,
     "metadata": {},
     "output_type": "execute_result"
    }
   ],
   "source": [
    "r = 2 * x\n",
    "R = sympy.integrate(r,x)\n",
    "\n",
    "R.subs(x, sympy.exp(1)) - F.subs(x, 0)\n",
    "#R.subs(x, sympy.exp(1)) - F.subs(x, 0).evalf()"
   ]
  },
  {
   "cell_type": "code",
   "execution_count": 41,
   "metadata": {},
   "outputs": [
    {
     "data": {
      "text/latex": [
       "$$x^{3} - 3 x^{2} + x + 6$$"
      ],
      "text/plain": [
       " 3      2        \n",
       "x  - 3⋅x  + x + 6"
      ]
     },
     "execution_count": 41,
     "metadata": {},
     "output_type": "execute_result"
    }
   ],
   "source": [
    "def t(x):\n",
    "    return x ** 3 - 3 * x ** 2 + x + 6\n",
    "t(x)"
   ]
  },
  {
   "cell_type": "code",
   "execution_count": 52,
   "metadata": {},
   "outputs": [
    {
     "data": {
      "text/latex": [
       "$$10$$"
      ],
      "text/plain": [
       "10"
      ]
     },
     "execution_count": 52,
     "metadata": {},
     "output_type": "execute_result"
    }
   ],
   "source": [
    "T = sympy.integrate(t(x))\n",
    "T.subs(x, 2) - T.subs(x, 0)"
   ]
  },
  {
   "cell_type": "code",
   "execution_count": 53,
   "metadata": {},
   "outputs": [
    {
     "data": {
      "text/latex": [
       "$$\\left ( 10.0, \\quad 1.1102230246251565e-13\\right )$$"
      ],
      "text/plain": [
       "(10.0, 1.1102230246251565e-13)"
      ]
     },
     "execution_count": 53,
     "metadata": {},
     "output_type": "execute_result"
    }
   ],
   "source": [
    "scipy.integrate.quad(f, 0, 2) "
   ]
  },
  {
   "cell_type": "markdown",
   "metadata": {},
   "source": [
    "# Multivariable integration"
   ]
  },
  {
   "cell_type": "code",
   "execution_count": 69,
   "metadata": {},
   "outputs": [],
   "source": [
    "def k(x,y):\n",
    "    return x + 2 * y\n",
    "def n(x, y):\n",
    "    return np.exp(-x * y) / y**2"
   ]
  },
  {
   "cell_type": "code",
   "execution_count": 66,
   "metadata": {},
   "outputs": [
    {
     "data": {
      "text/latex": [
       "$$\\left ( 3.5, \\quad 4.9911820932122627e-14\\right )$$"
      ],
      "text/plain": [
       "(3.5, 4.9911820932122627e-14)"
      ]
     },
     "execution_count": 66,
     "metadata": {},
     "output_type": "execute_result"
    }
   ],
   "source": [
    "scipy.integrate.dblquad(k, 1, 2 ,lambda x: 0, lambda x: 1)"
   ]
  },
  {
   "cell_type": "code",
   "execution_count": 70,
   "metadata": {},
   "outputs": [
    {
     "data": {
      "text/latex": [
       "$$\\left ( 0.4999999999999961, \\quad 1.068453874338024e-08\\right )$$"
      ],
      "text/plain": [
       "(0.4999999999999961, 1.068453874338024e-08)"
      ]
     },
     "execution_count": 70,
     "metadata": {},
     "output_type": "execute_result"
    }
   ],
   "source": [
    "scipy.integrate.dblquad(n, 1, np.inf, lambda x: 0, lambda x: np.inf)"
   ]
  },
  {
   "cell_type": "code",
   "execution_count": null,
   "metadata": {},
   "outputs": [],
   "source": []
  }
 ],
 "metadata": {
  "kernelspec": {
   "display_name": "Python 3",
   "language": "python",
   "name": "python3"
  },
  "language_info": {
   "codemirror_mode": {
    "name": "ipython",
    "version": 3
   },
   "file_extension": ".py",
   "mimetype": "text/x-python",
   "name": "python",
   "nbconvert_exporter": "python",
   "pygments_lexer": "ipython3",
   "version": "3.6.8"
  }
 },
 "nbformat": 4,
 "nbformat_minor": 2
}
