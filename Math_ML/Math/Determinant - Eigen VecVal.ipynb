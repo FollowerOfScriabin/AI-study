{
 "cells": [
  {
   "cell_type": "markdown",
   "metadata": {},
   "source": [
    "# Positive definite, Positive semi-definite #"
   ]
  },
  {
   "cell_type": "code",
   "execution_count": 2,
   "metadata": {},
   "outputs": [],
   "source": [
    "import numpy as np\n",
    "\n",
    "I = np.eye(3) # Positive definite\n",
    "A = np.array([[2,-1,0],[-1,2,-1],[0,-1,2]]) # Positive definite\n",
    "R = np.array([[1,1],[1,1]]) # Positive semi-definite"
   ]
  },
  {
   "cell_type": "markdown",
   "metadata": {},
   "source": [
    "# Norm(entrywise matrix norm) #"
   ]
  },
  {
   "cell_type": "code",
   "execution_count": 9,
   "metadata": {},
   "outputs": [
    {
     "name": "stdout",
     "output_type": "stream",
     "text": [
      "7.745966692414834\n"
     ]
    }
   ],
   "source": [
    "S = (np.arange(9) -4).reshape((3,3))\n",
    "print(np.linalg.norm(S))"
   ]
  },
  {
   "cell_type": "code",
   "execution_count": 58,
   "metadata": {},
   "outputs": [
    {
     "name": "stdout",
     "output_type": "stream",
     "text": [
      "True\n",
      "True\n"
     ]
    }
   ],
   "source": [
    "T = np.eye(3)\n",
    "print(np.linalg.norm(S+T) <= np.linalg.norm(S) + np.linalg.norm(T)) # For Any S,T\n",
    "print(np.linalg.norm(S@T) <= np.linalg.norm(S) * np.linalg.norm(T)) # For Any S,T"
   ]
  },
  {
   "cell_type": "markdown",
   "metadata": {},
   "source": [
    "# Trace #"
   ]
  },
  {
   "cell_type": "code",
   "execution_count": 20,
   "metadata": {},
   "outputs": [
    {
     "data": {
      "text/plain": [
       "3.0"
      ]
     },
     "execution_count": 20,
     "metadata": {},
     "output_type": "execute_result"
    }
   ],
   "source": [
    "np.trace(I)"
   ]
  },
  {
   "cell_type": "code",
   "execution_count": 57,
   "metadata": {},
   "outputs": [
    {
     "name": "stdout",
     "output_type": "stream",
     "text": [
      "6.0 6.0\n"
     ]
    }
   ],
   "source": [
    "print(np.trace(T@A), np.trace(A@T))"
   ]
  },
  {
   "cell_type": "code",
   "execution_count": 56,
   "metadata": {},
   "outputs": [
    {
     "name": "stdout",
     "output_type": "stream",
     "text": [
      "12 12 12\n"
     ]
    }
   ],
   "source": [
    "x = np.array([[1],[2],[3]])\n",
    "print(np.trace(x.T@A@x), np.trace(A@x@x.T),np.trace(x@x.T@A))"
   ]
  },
  {
   "cell_type": "markdown",
   "metadata": {},
   "source": [
    "# Determinant"
   ]
  },
  {
   "cell_type": "code",
   "execution_count": 43,
   "metadata": {},
   "outputs": [
    {
     "name": "stdout",
     "output_type": "stream",
     "text": [
      "4.0\n"
     ]
    }
   ],
   "source": [
    "print(np.linalg.det(A))"
   ]
  },
  {
   "cell_type": "code",
   "execution_count": 71,
   "metadata": {},
   "outputs": [
    {
     "name": "stdout",
     "output_type": "stream",
     "text": [
      "1.0\n"
     ]
    }
   ],
   "source": [
    "print(np.linalg.det(I))"
   ]
  },
  {
   "cell_type": "code",
   "execution_count": 112,
   "metadata": {},
   "outputs": [
    {
     "name": "stdout",
     "output_type": "stream",
     "text": [
      "[[ 0.6 -0.4 -0.2]\n",
      " [-0.2  0.8  0.4]\n",
      " [-1.   1.   1. ]]\n",
      "0.9999999999999999\n"
     ]
    }
   ],
   "source": [
    "T = np.array([[2,1,0],[-1,2,-1],[3,-1,2]])\n",
    "try:\n",
    "    B = np.linalg.inv(T)\n",
    "    print(B)\n",
    "    print(np.linalg.det(T @ B))\n",
    "except LinAlgErr as err:\n",
    "    print(\"DET = 0\")\n"
   ]
  },
  {
   "cell_type": "markdown",
   "metadata": {},
   "source": [
    "# Eigen vector & Eigen value #"
   ]
  },
  {
   "cell_type": "code",
   "execution_count": 14,
   "metadata": {},
   "outputs": [
    {
     "name": "stdout",
     "output_type": "stream",
     "text": [
      "4.0 [ 0.83205029 -0.70710678]\n",
      "[ True  True]\n",
      "-1.0 [0.5547002  0.70710678]\n",
      "[ True  True]\n"
     ]
    }
   ],
   "source": [
    "B = np.array([[2,3],[2,1]])\n",
    "W, E = np.linalg.eig(B)\n",
    "v = e.T\n",
    "for i in [0,1]:\n",
    "    print(W[i],E[i])\n",
    "    print(B @ v[i] == W[i] * v[i])"
   ]
  },
  {
   "cell_type": "markdown",
   "metadata": {},
   "source": [
    "# Diagonalization #"
   ]
  },
  {
   "cell_type": "code",
   "execution_count": 34,
   "metadata": {},
   "outputs": [
    {
     "name": "stdout",
     "output_type": "stream",
     "text": [
      "[[2. 3.]\n",
      " [2. 1.]]\n"
     ]
    }
   ],
   "source": [
    "E2 = np.linalg.inv(E)\n",
    "\n",
    "T = E @ np.diag(W) @ E2\n",
    "print(T)"
   ]
  },
  {
   "cell_type": "code",
   "execution_count": null,
   "metadata": {},
   "outputs": [],
   "source": []
  }
 ],
 "metadata": {
  "kernelspec": {
   "display_name": "Python 3",
   "language": "python",
   "name": "python3"
  },
  "language_info": {
   "codemirror_mode": {
    "name": "ipython",
    "version": 3
   },
   "file_extension": ".py",
   "mimetype": "text/x-python",
   "name": "python",
   "nbconvert_exporter": "python",
   "pygments_lexer": "ipython3",
   "version": "3.6.8"
  }
 },
 "nbformat": 4,
 "nbformat_minor": 2
}
