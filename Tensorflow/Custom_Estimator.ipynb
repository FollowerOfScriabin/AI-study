{
 "cells": [
  {
   "cell_type": "code",
   "execution_count": 6,
   "metadata": {},
   "outputs": [
    {
     "data": {
      "text/plain": [
       "'\\nif __name__ == \\'__main__\\':\\n    train, test = load_data()\\n\\n    train_x, train_y = train\\n    test_x, test_y = test\\n\\n    feature_columns = []\\n    for key in train_x.keys():\\n        feature_columns.append(tf.feature_column.numeric_column(key))\\n\\n    classifier = tf.estimator.Estimator(\\n        model_fn = model_fn,\\n        params = {\"n_classes\":3, \"feature_columns\":feature_columns, \"hidden_units\":[10, 10]}\\n    )\\n'"
      ]
     },
     "execution_count": 6,
     "metadata": {},
     "output_type": "execute_result"
    }
   ],
   "source": [
    "import tensorflow as tf\n",
    "import numpy as np\n",
    "%run Iris_data.ipynb\n",
    "\n",
    "'''\n",
    " tf.estimator.EstimatorSpec 값을 리턴합니다.\n",
    "\n",
    "features : train, evaluate, predict 함수에서 호출될때 input_fn으로 전달되는 첫 번째 값입니다.\n",
    "labels : train, evaluate, predict 함수에서 호출될때 input_fn으로 전달되는 두 번째 값입니다.\n",
    "mode :학습, 평가 또는 추론여부를 확인 하는 변수로 선택 값입니다.\n",
    "params : Estimator 객체로 부터 전달되는 파라미터 값으로 선택 값입니다.\n",
    "config : configuration 객체로 선택 값입니다.\n",
    "'''\n",
    "\n",
    "def model_fn(features, labels, mode, params):\n",
    "    net = tf.feature_column.input_layer(features, params['feature_columns'])\n",
    "\n",
    "    for units in params['hidden_units']:\n",
    "        net = tf.layers.dense(net, units=units, activation=tf.nn.relu)\n",
    "\n",
    "    logits = tf.layers.dense(net, units=params['n_classes'], activation=None)\n",
    "\n",
    "    predictions = {'probabilities':tf.nn.softmax(logits, 1)}\n",
    "\n",
    "    if mode == tf.estimator.ModeKeys.PREDICT:\n",
    "        return tf.estimator.EstimatorSpec(mode, predictions = predictions)\n",
    "\n",
    "    loss = tf.losses.sparse_softmax_cross_entropy(labels=labels, logits=logits)\n",
    "\n",
    "    eval_metric_ops = {'accuracy':tf.metrics.accuracy(labels=labels, predictions=tf.argmax(logits, 1))}\n",
    "\n",
    "    if mode == tf.estimator.ModeKeys.EVAL:\n",
    "        return tf.estimator.EstimatorSpec(mode, loss=loss, eval_metric_ops = eval_metric_ops)\n",
    "\n",
    "    # Create training op.\n",
    "    assert mode == tf.estimator.ModeKeys.TRAIN\n",
    "\n",
    "    optimizer = tf.train.AdagradOptimizer(learning_rate=0.1)\n",
    "    train_op = optimizer.minimize(loss=loss, global_step = tf.train.get_global_step())\n",
    "\n",
    "    return tf.estimator.EstimatorSpec(mode, loss=loss, train_op = train_op)\n",
    "'''\n",
    "if __name__ == '__main__':\n",
    "    train, test = load_data()\n",
    "\n",
    "    train_x, train_y = train\n",
    "    test_x, test_y = test\n",
    "\n",
    "    feature_columns = []\n",
    "    for key in train_x.keys():\n",
    "        feature_columns.append(tf.feature_column.numeric_column(key))\n",
    "\n",
    "    classifier = tf.estimator.Estimator(\n",
    "        model_fn = model_fn,\n",
    "        params = {\"n_classes\":3, \"feature_columns\":feature_columns, \"hidden_units\":[10, 10]}\n",
    "    )\n",
    "'''"
   ]
  },
  {
   "cell_type": "code",
   "execution_count": null,
   "metadata": {},
   "outputs": [],
   "source": []
  },
  {
   "cell_type": "code",
   "execution_count": null,
   "metadata": {},
   "outputs": [],
   "source": []
  }
 ],
 "metadata": {
  "kernelspec": {
   "display_name": "Python 3",
   "language": "python",
   "name": "python3"
  },
  "language_info": {
   "codemirror_mode": {
    "name": "ipython",
    "version": 3
   },
   "file_extension": ".py",
   "mimetype": "text/x-python",
   "name": "python",
   "nbconvert_exporter": "python",
   "pygments_lexer": "ipython3",
   "version": "3.6.4"
  }
 },
 "nbformat": 4,
 "nbformat_minor": 2
}
