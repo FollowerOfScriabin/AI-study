{
 "cells": [
  {
   "cell_type": "code",
   "execution_count": 18,
   "metadata": {},
   "outputs": [
    {
     "name": "stdout",
     "output_type": "stream",
     "text": [
      "<class 'numpy.ndarray'>\n"
     ]
    }
   ],
   "source": [
    "from PIL import Image\n",
    "import numpy as np\n",
    "import scipy.ndimage\n",
    "\n",
    "#IMAGE PYRAMID\n",
    "\n",
    "magnification = 3\n",
    "\n",
    "im = Image.open('img_133.jpg')\n",
    "iarr = np.array(im)\n",
    "print(type(iarr))\n",
    "#print(iarr.reshape(iarr.shape[0], iarr.shape[1]))\n",
    "\n",
    "newim1 = scipy.ndimage.zoom(iarr,magnification , order=1)\n",
    "pi = Image.fromarray(np.int32(newim1))\n",
    "pi.show()"
   ]
  },
  {
   "cell_type": "code",
   "execution_count": null,
   "metadata": {},
   "outputs": [],
   "source": []
  }
 ],
 "metadata": {
  "kernelspec": {
   "display_name": "Python 3",
   "language": "python",
   "name": "python3"
  },
  "language_info": {
   "codemirror_mode": {
    "name": "ipython",
    "version": 3
   },
   "file_extension": ".py",
   "mimetype": "text/x-python",
   "name": "python",
   "nbconvert_exporter": "python",
   "pygments_lexer": "ipython3",
   "version": "3.6.4"
  }
 },
 "nbformat": 4,
 "nbformat_minor": 2
}
