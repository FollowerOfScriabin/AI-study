{
 "cells": [
  {
   "cell_type": "code",
   "execution_count": 2,
   "metadata": {
    "scrolled": true
   },
   "outputs": [
    {
     "name": "stdout",
     "output_type": "stream",
     "text": [
      "INFO:tensorflow:Using default config.\n",
      "WARNING:tensorflow:Using temporary folder as model directory: C:\\Users\\Kjy\\AppData\\Local\\Temp\\tmpauh57u92\n",
      "INFO:tensorflow:Using config: {'_model_dir': 'C:\\\\Users\\\\Kjy\\\\AppData\\\\Local\\\\Temp\\\\tmpauh57u92', '_tf_random_seed': None, '_save_summary_steps': 100, '_save_checkpoints_steps': None, '_save_checkpoints_secs': 600, '_session_config': None, '_keep_checkpoint_max': 5, '_keep_checkpoint_every_n_hours': 10000, '_log_step_count_steps': 100, '_train_distribute': None, '_service': None, '_cluster_spec': <tensorflow.python.training.server_lib.ClusterSpec object at 0x0000022AA1868DA0>, '_task_type': 'worker', '_task_id': 0, '_global_id_in_cluster': 0, '_master': '', '_evaluation_master': '', '_is_chief': True, '_num_ps_replicas': 0, '_num_worker_replicas': 1}\n",
      "INFO:tensorflow:Calling model_fn.\n",
      "INFO:tensorflow:Done calling model_fn.\n",
      "INFO:tensorflow:Create CheckpointSaverHook.\n",
      "INFO:tensorflow:Graph was finalized.\n",
      "INFO:tensorflow:Running local_init_op.\n",
      "INFO:tensorflow:Done running local_init_op.\n",
      "INFO:tensorflow:Saving checkpoints for 1 into C:\\Users\\Kjy\\AppData\\Local\\Temp\\tmpauh57u92\\model.ckpt.\n",
      "INFO:tensorflow:loss = 1.3844455, step = 1\n",
      "INFO:tensorflow:Saving checkpoints for 100 into C:\\Users\\Kjy\\AppData\\Local\\Temp\\tmpauh57u92\\model.ckpt.\n",
      "INFO:tensorflow:Loss for final step: 0.16642271.\n",
      "INFO:tensorflow:Calling model_fn.\n",
      "INFO:tensorflow:Done calling model_fn.\n",
      "INFO:tensorflow:Starting evaluation at 2019-04-06-12:16:21\n",
      "INFO:tensorflow:Graph was finalized.\n",
      "INFO:tensorflow:Restoring parameters from C:\\Users\\Kjy\\AppData\\Local\\Temp\\tmpauh57u92\\model.ckpt-100\n",
      "INFO:tensorflow:Running local_init_op.\n",
      "INFO:tensorflow:Done running local_init_op.\n",
      "INFO:tensorflow:Finished evaluation at 2019-04-06-12:16:22\n",
      "INFO:tensorflow:Saving dict for global step 100: accuracy = 0.96666664, global_step = 100, loss = 0.16744463\n",
      "{'accuracy': 0.96666664, 'loss': 0.16744463, 'global_step': 100}\n",
      "INFO:tensorflow:Calling model_fn.\n",
      "INFO:tensorflow:Done calling model_fn.\n",
      "INFO:tensorflow:Graph was finalized.\n",
      "INFO:tensorflow:Restoring parameters from C:\\Users\\Kjy\\AppData\\Local\\Temp\\tmpauh57u92\\model.ckpt-100\n",
      "INFO:tensorflow:Running local_init_op.\n",
      "INFO:tensorflow:Done running local_init_op.\n",
      "0.98/0.02/0.00/\n",
      "0.01/0.87/0.12/\n",
      "0.00/0.21/0.79/\n"
     ]
    }
   ],
   "source": [
    "import tensorflow as tf\n",
    "import numpy as np\n",
    "%run Iris_data.ipynb\n",
    "%run Custom_Estimator.ipynb\n",
    "## %run ipynb는 실제로 동시에 실행을 시키므로 __name__ 이 __main__이다. 유의..\n",
    "\n",
    "(train_x, train_y), (test_x, test_y) = load_data()\n",
    "\n",
    "\n",
    "feature_columns = []\n",
    "for key in train_x.keys():\n",
    "    feature_columns.append(tf.feature_column.numeric_column(key))\n",
    "\n",
    "classifier = tf.estimator.Estimator(\n",
    "        model_fn = model_fn,\n",
    "        params = {\"n_classes\":3, \"feature_columns\":feature_columns, \"hidden_units\":[10, 10]})\n",
    "batch_size = 100\n",
    "steps = 100\n",
    "\n",
    "classifier.train(input_fn = lambda:train_input_fn(train_x, train_y, batch_size), steps = steps)\n",
    "\n",
    "def test_input_fn(x, y, batch_size):\n",
    "    x=dict(x)\n",
    "    if y is None:\n",
    "        inputs = x\n",
    "    else:\n",
    "        inputs = (x, y)\n",
    "\n",
    "    dataset = tf.data.Dataset.from_tensor_slices(inputs)\n",
    "    dataset = dataset.batch(batch_size)\n",
    "\n",
    "    return dataset\n",
    "\n",
    "result = classifier.evaluate(input_fn = lambda:eval_input_fn(test_x, test_y, batch_size))\n",
    "print(result)\n",
    "predict_x = {\n",
    "    'SepalLength': [5.1, 5.9, 6.9],\n",
    "    'SepalWidth': [3.3, 3.0, 3.1],\n",
    "    'PetalLength': [1.7, 4.2, 5.4],\n",
    "    'PetalWidth': [0.5, 1.5, 2.1],\n",
    "}\n",
    "\n",
    "predictions = classifier.predict(input_fn=lambda:test_input_fn(predict_x, y=None, batch_size=batch_size))\n",
    "\n",
    "for p in predictions:\n",
    "    for s in p['probabilities']:\n",
    "        print('%.2f' % s, end='/')\n",
    "    print('')"
   ]
  },
  {
   "cell_type": "code",
   "execution_count": null,
   "metadata": {
    "scrolled": true
   },
   "outputs": [],
   "source": []
  },
  {
   "cell_type": "code",
   "execution_count": null,
   "metadata": {
    "scrolled": true
   },
   "outputs": [],
   "source": []
  }
 ],
 "metadata": {
  "kernelspec": {
   "display_name": "Python 3",
   "language": "python",
   "name": "python3"
  },
  "language_info": {
   "codemirror_mode": {
    "name": "ipython",
    "version": 3
   },
   "file_extension": ".py",
   "mimetype": "text/x-python",
   "name": "python",
   "nbconvert_exporter": "python",
   "pygments_lexer": "ipython3",
   "version": "3.6.4"
  }
 },
 "nbformat": 4,
 "nbformat_minor": 2
}
