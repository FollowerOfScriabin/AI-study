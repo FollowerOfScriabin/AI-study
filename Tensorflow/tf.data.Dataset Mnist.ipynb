{
 "cells": [
  {
   "cell_type": "code",
   "execution_count": 4,
   "metadata": {},
   "outputs": [
    {
     "name": "stdout",
     "output_type": "stream",
     "text": [
      "<dtype: 'float64'> (6, 2)\n",
      "[[0.17963245 0.98931571]\n",
      " [0.59111266 0.23756936]\n",
      " [0.669817   0.44565537]\n",
      " [0.6358869  0.75883842]\n",
      " [0.41192549 0.66907452]\n",
      " [0.86011117 0.72121809]]\n",
      "[[0.30162359 0.96948549]\n",
      " [0.07165584 0.77310141]\n",
      " [0.94517898 0.13442299]\n",
      " [0.82465908 0.64551759]\n",
      " [0.21361131 0.35730504]\n",
      " [0.57122559 0.44016527]]\n",
      "[[0.92894687 0.47291438]\n",
      " [0.72087374 0.53759049]\n",
      " [0.90498777 0.57324243]\n",
      " [0.81652923 0.57132046]\n",
      " [0.83997816 0.46655559]\n",
      " [0.32231256 0.12568778]]\n"
     ]
    },
    {
     "data": {
      "text/plain": [
       "\"\\n\\ntrain, test = tf.keras.datasets.mnist.load_data()\\ntrain_x, train_y = train\\ndataset= tf.data.Dataset.from_tensor_slices(({''}))\""
      ]
     },
     "execution_count": 4,
     "metadata": {},
     "output_type": "execute_result"
    }
   ],
   "source": [
    "import tensorflow as tf\n",
    "import numpy as np\n",
    "\n",
    "x = tf.placeholder(tf.float32,shape=[None,2])\n",
    "\n",
    "e = np.random.sample((3,6,2))\n",
    "data = tf.data.Dataset.from_tensor_slices(e)\n",
    "iterator = data.make_one_shot_iterator()\n",
    "next = iterator.get_next()\n",
    "\n",
    "\n",
    "print(data.output_types, data.output_shapes)\n",
    "with tf.Session() as sess:\n",
    "    while True:\n",
    "        try:\n",
    "            print(sess.run(next))\n",
    "        except tf.errors.OutOfRangeError as e:\n",
    "            #print(e)\n",
    "            break\n",
    "'''\n",
    "\n",
    "train, test = tf.keras.datasets.mnist.load_data()\n",
    "train_x, train_y = train\n",
    "dataset= tf.data.Dataset.from_tensor_slices(({''}))'''"
   ]
  },
  {
   "cell_type": "code",
   "execution_count": null,
   "metadata": {},
   "outputs": [],
   "source": []
  }
 ],
 "metadata": {
  "kernelspec": {
   "display_name": "Python 3",
   "language": "python",
   "name": "python3"
  },
  "language_info": {
   "codemirror_mode": {
    "name": "ipython",
    "version": 3
   },
   "file_extension": ".py",
   "mimetype": "text/x-python",
   "name": "python",
   "nbconvert_exporter": "python",
   "pygments_lexer": "ipython3",
   "version": "3.6.4"
  }
 },
 "nbformat": 4,
 "nbformat_minor": 2
}
