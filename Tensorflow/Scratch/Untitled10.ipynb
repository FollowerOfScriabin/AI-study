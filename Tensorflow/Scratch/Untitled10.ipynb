{
 "cells": [
  {
   "cell_type": "code",
   "execution_count": 9,
   "metadata": {},
   "outputs": [
    {
     "name": "stdout",
     "output_type": "stream",
     "text": [
      "[0.3 0.7 1.1]\n"
     ]
    }
   ],
   "source": [
    "x = np.array([1,0.5])\n",
    "w1 = np.array([[0.1,0.3,0.5],[0.2,0.4,0.6]])\n",
    "b1 = np.array([0.1,0.2,0.3])\n",
    "\n",
    "a1 = np.dot(x,w1) + b1\n",
    "print(a1)\n",
    "\n",
    "def sigmoid(x):\n",
    "    return 1/ (1+np.exp(-x))\n",
    "z1 = sigmoid(a1)\n",
    "w2 = np.array([[0.1,0.4], [0.2,0.5],[0.3,0.6]])\n",
    "b2 = np.array([0.1,0.2])\n",
    "\n",
    "a2 = np.dot(z1,w2) + b2\n",
    "z2 = sigmoid(a2)\n",
    "\n"
   ]
  },
  {
   "cell_type": "code",
   "execution_count": null,
   "metadata": {},
   "outputs": [],
   "source": []
  }
 ],
 "metadata": {
  "kernelspec": {
   "display_name": "Python 3",
   "language": "python",
   "name": "python3"
  },
  "language_info": {
   "codemirror_mode": {
    "name": "ipython",
    "version": 3
   },
   "file_extension": ".py",
   "mimetype": "text/x-python",
   "name": "python",
   "nbconvert_exporter": "python",
   "pygments_lexer": "ipython3",
   "version": "3.6.4"
  }
 },
 "nbformat": 4,
 "nbformat_minor": 2
}
