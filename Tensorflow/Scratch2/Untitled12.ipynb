{
 "cells": [
  {
   "cell_type": "code",
   "execution_count": 2,
   "metadata": {},
   "outputs": [
    {
     "name": "stdout",
     "output_type": "stream",
     "text": [
      "['w', 'h', 'o', ' ', 'k', 'n', 'o', 'w', 's', ' ', 'i', 't', '?', ' ', 'i', 't', ' ', 'c', 'a', 'n', ' ', 'b', 'e', ' ', 'v', 'e', 'r', 'y', ' ', 'p', 'r', 'e', 'c', 'i', 'o', 'u', 's', '.']\n"
     ]
    }
   ],
   "source": [
    "seq_data = ['lori', 'eeen', 'deep', 'divg', 'cold', 'pape', 'load', 'love', 'kiss', 'kind']\n",
    "\n",
    "str = 'who knows it? it can be very precious.'\n",
    "lis = list(str)\n",
    "print(lis)"
   ]
  },
  {
   "cell_type": "code",
   "execution_count": null,
   "metadata": {},
   "outputs": [],
   "source": []
  }
 ],
 "metadata": {
  "kernelspec": {
   "display_name": "Python 3",
   "language": "python",
   "name": "python3"
  },
  "language_info": {
   "codemirror_mode": {
    "name": "ipython",
    "version": 3
   },
   "file_extension": ".py",
   "mimetype": "text/x-python",
   "name": "python",
   "nbconvert_exporter": "python",
   "pygments_lexer": "ipython3",
   "version": "3.6.4"
  }
 },
 "nbformat": 4,
 "nbformat_minor": 2
}
