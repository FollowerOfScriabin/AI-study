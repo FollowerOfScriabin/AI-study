{
 "cells": [
  {
   "cell_type": "code",
   "execution_count": 1,
   "metadata": {
    "scrolled": true
   },
   "outputs": [
    {
     "name": "stdout",
     "output_type": "stream",
     "text": [
      "10 1.0244356\n",
      "20 0.8391142\n",
      "30 0.69961166\n",
      "PREDICTION: [0 1 2 0 0 2]\n",
      "REAL: [0 1 2 0 0 2]\n",
      "ACCURACY: 100.00\n"
     ]
    }
   ],
   "source": [
    "import tensorflow as tf\n",
    "import numpy as np\n",
    "\n",
    "# [털, 날개]\n",
    "x_data = np.array(\n",
    "    [[0, 0], [1, 0], [1, 1], [0, 0], [0, 0], [0, 1]])\n",
    "\n",
    "y_data = np.array([\n",
    "    [1, 0, 0],  # Unknown\n",
    "    [0, 1, 0],  # 포유류\n",
    "    [0, 0, 1],  # 조류\n",
    "    [1, 0, 0],\n",
    "    [1, 0, 0],\n",
    "    [0, 0, 1]\n",
    "])\n",
    "\n",
    "\n",
    "X = tf.placeholder(tf.float32)\n",
    "Y = tf.placeholder(tf.float32)\n",
    "\n",
    "# INPUT DATA - HIDDEN LAYER - OUTPUT : 2 - 10 - 3([W: 2,10],[10,3])\n",
    "W1 = tf.Variable(tf.random_uniform([2, 10], -1., 1.))\n",
    "W2 = tf.Variable(tf.random_uniform([10, 3], -1., 1.))\n",
    "# BIAS\n",
    "b1 = tf.Variable(tf.zeros([10]))\n",
    "b2 = tf.Variable(tf.zeros([3]))\n",
    "\n",
    "L1 = tf.add(tf.matmul(X, W1), b1)\n",
    "L1 = tf.nn.relu(L1)\n",
    "model = tf.add(tf.matmul(L1, W2), b2)\n",
    "\n",
    "# * tf.nn.softmax_cross... 함수는 one-hot vector로 사전 변환을 요구하나, 정수 실측값을 one-hot vector로 인코딩해주는\n",
    "# tf.nn.sparse_softmax_cross.... 도 있다. -> one-hot vector의 길이가 길때(ex: 알파벳 등) 사용\n",
    "\n",
    "cost = tf.reduce_mean(\n",
    "    tf.nn.softmax_cross_entropy_with_logits_v2(labels=Y, logits=model))\n",
    "\n",
    "optimizer = tf.train.AdamOptimizer(learning_rate=0.01)\n",
    "train_op = optimizer.minimize(cost)\n",
    "\n",
    "\n",
    "# train\n",
    "init = tf.global_variables_initializer() #그래프 내 변수 초기화\n",
    "sess = tf.Session()\n",
    "sess.run(init)\n",
    "\n",
    "epoch = 30\n",
    "for step in range(epoch):\n",
    "    sess.run(train_op, feed_dict={X: x_data, Y: y_data})\n",
    "    tf.summary.histogram('Weights',W1)\n",
    "    if (step + 1) % 10 == 0:\n",
    "        print(step + 1, sess.run(cost, feed_dict={X: x_data, Y: y_data}))\n",
    "\n",
    "\n",
    "# predict\n",
    "prediction = tf.argmax(model, 1)\n",
    "target = tf.argmax(Y, 1)\n",
    "print('PREDICTION:', sess.run(prediction, feed_dict={X: x_data}))\n",
    "print('REAL:', sess.run(target, feed_dict={Y: y_data}))\n",
    "\n",
    "is_correct = tf.equal(prediction, target)\n",
    "accuracy = tf.reduce_mean(tf.cast(is_correct, tf.float32))\n",
    "print('ACCURACY: %.2f' % sess.run(accuracy * 100, feed_dict={X: x_data, Y: y_data}))\n",
    "\n",
    "\n",
    "### 실험결과: epoch 수가 8 이하이면 매우 불안정하고, 10~20일때는 약 80%의 정확도를, 30이상 일때는 대체로 100%의 정확도를 보였다.\n",
    "### 입력데이터가 지나치게 적어 EPOCH수와 정확도가 비례하지는 않았다"
   ]
  },
  {
   "cell_type": "code",
   "execution_count": null,
   "metadata": {},
   "outputs": [],
   "source": []
  },
  {
   "cell_type": "code",
   "execution_count": null,
   "metadata": {},
   "outputs": [],
   "source": []
  },
  {
   "cell_type": "code",
   "execution_count": null,
   "metadata": {},
   "outputs": [],
   "source": []
  }
 ],
 "metadata": {
  "kernelspec": {
   "display_name": "Python 3",
   "language": "python",
   "name": "python3"
  },
  "language_info": {
   "codemirror_mode": {
    "name": "ipython",
    "version": 3
   },
   "file_extension": ".py",
   "mimetype": "text/x-python",
   "name": "python",
   "nbconvert_exporter": "python",
   "pygments_lexer": "ipython3",
   "version": "3.6.4"
  }
 },
 "nbformat": 4,
 "nbformat_minor": 2
}
